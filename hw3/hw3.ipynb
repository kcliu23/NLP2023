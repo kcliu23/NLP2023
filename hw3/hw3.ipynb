{
 "cells": [
  {
   "cell_type": "code",
   "execution_count": null,
   "id": "204ee874",
   "metadata": {},
   "outputs": [],
   "source": [
    "from sklearn.neighbors import KNeighborsClassifier"
   ]
  },
  {
   "cell_type": "code",
   "execution_count": 1,
   "id": "e7c925d8",
   "metadata": {},
   "outputs": [],
   "source": [
    "import json\n",
    "with open(\"../hw2/hw2.json\") as fp:\n",
    "    movie_info = json.load(fp)\n",
    "fp.close()\n",
    "# print(movie_info[0])"
   ]
  },
  {
   "cell_type": "code",
   "execution_count": 2,
   "id": "24c3491a",
   "metadata": {},
   "outputs": [
    {
     "name": "stderr",
     "output_type": "stream",
     "text": [
      "Building prefix dict from the default dictionary ...\n",
      "Loading model from cache /var/folders/2m/2yp8xh891bd67xxdsy56_6gc0000gn/T/jieba.cache\n",
      "Loading model cost 0.744 seconds.\n",
      "Prefix dict has been built successfully.\n"
     ]
    }
   ],
   "source": [
    "import jieba\n",
    "import re\n",
    "from zhon.hanzi import punctuation\n",
    "from nltk.corpus import stopwords\n",
    "punctuations = list(punctuation)\n",
    "stopword = [line.strip().replace('\\n','') for line in open('../hw1/stopwords.txt','r').readlines()]\n",
    "punctuations = [line.strip().replace('\\n','') for line in open('../hw1/punctuation.txt','r').readlines()]\n",
    "jieba.load_userdict('../hw1/userDict.txt')\n",
    "stop_words = stopwords.words(\"chinese\")"
   ]
  },
  {
   "cell_type": "code",
   "execution_count": 3,
   "id": "f3f086d0",
   "metadata": {},
   "outputs": [],
   "source": [
    "def preprocess(data):\n",
    "    data = re.sub('[^\\u4e00-\\u9fa5]','',data)\n",
    "    info = data.replace('\\n','').replace('\\t','').replace('\\u3000','')\n",
    "    info = jieba.lcut(info)\n",
    "    Info = [i for i in list(info) if i not in stopword]\n",
    "    Info = [i for i in list(info) if i not in stop_words]\n",
    "    return Info\n",
    "    "
   ]
  },
  {
   "cell_type": "code",
   "execution_count": 4,
   "id": "4fa550f5",
   "metadata": {
    "scrolled": true
   },
   "outputs": [],
   "source": [
    "DATA =[]\n",
    "labels = []\n",
    "for movie in movie_info[:6000]:\n",
    "    info = preprocess(movie['intro'])\n",
    "    info = [\" \".join(info)]\n",
    "    info.insert(0,movie['label[class]'][0] if len(movie['label[class]'])>0 else \"NA\")\n",
    "    labels.append(movie['label[class]'][0] if len(movie['label[class]'])>0 else \"NA\")\n",
    "    DATA.append(info)"
   ]
  },
  {
   "cell_type": "code",
   "execution_count": 5,
   "id": "49371fb4",
   "metadata": {},
   "outputs": [],
   "source": [
    "from sklearn.feature_extraction.text import TfidfVectorizer\n",
    "train_x = [data[1] for data in DATA]\n",
    "train_y = [data[0] for data in DATA]\n",
    "TFIDF = TfidfVectorizer(token_pattern =r\"(?u)\\b\\w\\w+\\b\")\n",
    "train_X = TFIDF.fit_transform(train_x)\n",
    "train_X = TFIDF.transform(train_x)"
   ]
  },
  {
   "cell_type": "code",
   "execution_count": 6,
   "id": "f6c79d1d",
   "metadata": {},
   "outputs": [
    {
     "name": "stdout",
     "output_type": "stream",
     "text": [
      "['劇情', '動作', '喜劇', '冒險', '奇幻', '愛情', '溫馨/家庭', '科幻', '犯罪', '戰爭', '紀錄片', '懸疑/驚悚', '動畫', '恐怖', '勵志', '歷史/傳記', '音樂/歌舞', 'NA']\n"
     ]
    }
   ],
   "source": [
    "label_class = list(dict.fromkeys(labels))\n",
    "print(label_class)"
   ]
  },
  {
   "cell_type": "code",
   "execution_count": 15,
   "id": "a881332a",
   "metadata": {},
   "outputs": [
    {
     "name": "stdout",
     "output_type": "stream",
     "text": [
      "SVM score, cross validated:   0.498\n"
     ]
    }
   ],
   "source": [
    "from sklearn.svm import SVC\n",
    "from sklearn.model_selection import cross_val_score\n",
    "import numpy as np\n",
    "svm_clf = SVC()\n",
    "svm_clf.fit(train_X, train_y)\n",
    "print(f\"SVM score, cross validated:   {np.mean(cross_val_score(svm_clf, train_X, train_y,cv=12)):.3f}\")"
   ]
  },
  {
   "cell_type": "code",
   "execution_count": 16,
   "id": "80da3bca",
   "metadata": {},
   "outputs": [
    {
     "name": "stdout",
     "output_type": "stream",
     "text": [
      "NAIVE BAYES score, cross validated:   0.421\n"
     ]
    }
   ],
   "source": [
    "from sklearn.naive_bayes import MultinomialNB\n",
    "naive_bayes_classifier = MultinomialNB()\n",
    "naive_bayes_classifier.fit(train_X, train_y)\n",
    "print(f\"NAIVE BAYES score, cross validated:   {np.mean(cross_val_score(naive_bayes_classifier, train_X, train_y,cv=12)):.3f}\")"
   ]
  },
  {
   "cell_type": "code",
   "execution_count": 17,
   "id": "70e4654b",
   "metadata": {},
   "outputs": [
    {
     "name": "stdout",
     "output_type": "stream",
     "text": [
      "KNN score, cross validated:   0.427\n"
     ]
    }
   ],
   "source": [
    "from sklearn.neighbors import KNeighborsClassifier\n",
    "KNN = KNeighborsClassifier(n_neighbors=3)\n",
    "KNN.fit(train_X, train_y)\n",
    "print(f\"KNN score, cross validated:   {np.mean(cross_val_score(KNN, train_X, train_y,cv=12)):.3f}\")"
   ]
  },
  {
   "cell_type": "code",
   "execution_count": 18,
   "id": "cef24090",
   "metadata": {},
   "outputs": [
    {
     "name": "stdout",
     "output_type": "stream",
     "text": [
      "RF score, cross validated:   0.504\n"
     ]
    }
   ],
   "source": [
    "from sklearn import ensemble\n",
    "RF = ensemble.RandomForestClassifier(n_estimators = 100)\n",
    "RF.fit(train_X, train_y)\n",
    "print(f\"RF score, cross validated:   {np.mean(cross_val_score(RF, train_X, train_y,cv=12)):.3f}\")"
   ]
  },
  {
   "cell_type": "code",
   "execution_count": null,
   "id": "3027af59",
   "metadata": {},
   "outputs": [],
   "source": []
  }
 ],
 "metadata": {
  "kernelspec": {
   "display_name": "Python 3 (ipykernel)",
   "language": "python",
   "name": "python3"
  },
  "language_info": {
   "codemirror_mode": {
    "name": "ipython",
    "version": 3
   },
   "file_extension": ".py",
   "mimetype": "text/x-python",
   "name": "python",
   "nbconvert_exporter": "python",
   "pygments_lexer": "ipython3",
   "version": "3.8.13"
  }
 },
 "nbformat": 4,
 "nbformat_minor": 5
}
