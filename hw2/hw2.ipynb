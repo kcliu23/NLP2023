{
 "cells": [
  {
   "cell_type": "code",
   "execution_count": 26,
   "metadata": {
    "colab": {
     "base_uri": "https://localhost:8080/"
    },
    "id": "eIrhqj5SBDlJ",
    "outputId": "d9c30759-c811-48cd-901b-6aae9642e131",
    "scrolled": true
   },
   "outputs": [
    {
     "name": "stdout",
     "output_type": "stream",
     "text": [
      "1\n",
      "{'doc_id': 2, 'ch_name': '玩命關頭', 'en_name': 'The Fast and the Furious', 'label[class]': ['動作', '劇情', '犯罪', '懸疑/驚悚'], 'release_date': '2001-10-13', 'intro': '唐米尼杜洛托是洛城街頭賽車界的老大哥，他身邊有一群忠心耿耿的手下，他白天忙著組裝高性能跑車，晚上則是開著他的愛車，動輒以一次一萬美元的賭注和別人軋車。布萊恩也渴望接受極速的挑戰，他對自己的駕駛技術很有信心，但是在旁觀者的眼中他只是一個菜鳥，他開了一輛超炫的跑車想和唐老大一較高下，也希望得到他的青睞，當比賽結束，布萊恩輸得一塌塗地之後，警方接獲風聲前來取締，布萊恩在無意間從一名心狠手辣的幫派份子強尼手中救了唐老大一命，於是他就被納入唐老大的權力核心，唐老大的妹妹蜜雅也對布萊恩產生好感，但是他們都不知道布萊恩其實是一名臥底警探。布萊恩滲入賽車圈的目的是調查一連串的卡車搶案，嫌犯都是開著跑車的蒙面人，警方和聯邦調查局希望能儘早逮到搶匪，以免卡車司機採取激烈的手段對這些搶匪進行報復行動，其中最有嫌疑的就是唐老大和強尼。正當唐老大和強尼形成水火不相容的情勢。布萊恩和唐老大兄妹的關係卻越來越深，他不但和唐老大結為好友，更忍不住對蜜雅產生好感，但是他也同時承受來自警方和ＦＢＩ的壓力，必須儘快查出誰才是真正的搶匪，他在天人交戰之際，在法律和友情之間，必須做出困難的決定。'}\n"
     ]
    }
   ],
   "source": [
    "#CRAWLING DATA FROM YAHOO MOVIES\n",
    "import requests\n",
    "import re\n",
    "from bs4 import BeautifulSoup\n",
    "\n",
    "Y_MOVIE_URL = \"https://movies.yahoo.com.tw/movieinfo_main/\"\n",
    "\n",
    "# YOUR CODE HERE! \n",
    "# IMPLEMENTIG YAHOO MOVIES CRAWLER\n",
    "class MovieCrawler(object):\n",
    "\n",
    "    def __init__(self):\n",
    "        self.session = requests.Session()\n",
    "        \n",
    "    def get_movies(self, page_url):\n",
    "        movies = []\n",
    "          # with open(page_url,'r') as f:\n",
    "          #   contents = f.read()\n",
    "        for i in range(2,3):\n",
    "            response = self.session.get(page_url+str(i))#+\"?page=\"+str(i))\n",
    "            response.encoding = 'utf-8'\n",
    "            soup = BeautifulSoup(response.text, 'html.parser')\n",
    "            movie_list = soup.find_all('div', id='content_l')\n",
    "            # print(movie_list)\n",
    "            for movie in movie_list:\n",
    "                label_class = []\n",
    "                # print(movie)\n",
    "                try:\n",
    "                    ch_name = movie.find('div', class_='movie_intro_info_r').h1#.text.strip()\n",
    "                    try:\n",
    "                        ch_name.span.decompose()\n",
    "                    except:\n",
    "                        pass\n",
    "                    ch_name = ch_name.text.strip()\n",
    "                    en_name = movie.find('div', class_='movie_intro_info_r').h3.text.strip()\n",
    "                    release_date = movie.find('div', class_='movie_intro_info_r').find('span',class_=None).text[5:].strip()#.span.text.split('上映日期：')[-1].strip()\n",
    "                    labels = movie.find_all('div',class_ = 'level_name')\n",
    "                    for label in labels:\n",
    "                        try:\n",
    "                            lb = label.find('a',class_='gabtn').text.strip()\n",
    "                        except:\n",
    "                            break\n",
    "                        label_class.append(lb)\n",
    "                    intro = movie.find('div', class_='gray_infobox_inner').span.text.strip().replace('\\n','')\n",
    "                    doc_id = i\n",
    "                    movie_info = {\n",
    "                                'doc_id' : doc_id,\n",
    "                                'ch_name': ch_name,\n",
    "                                'en_name': en_name,\n",
    "                                'label[class]': label_class,\n",
    "                                'release_date': release_date,\n",
    "                                'intro': intro}\n",
    "                    movies.append(movie_info)\n",
    "                except:\n",
    "                    print(i)\n",
    "                    continue\n",
    "        return movies\n",
    "\n",
    "\n",
    "# # DO NOT MODIFY THE VARIABLES\n",
    "crawler = MovieCrawler()\n",
    "movie = crawler.get_movies(Y_MOVIE_URL)\n",
    "\n",
    "# # THE RESULTS : AS THE FOLLOWING SECTION\n",
    "# # {'ch_name', 'en_name', 'movie_url', 'release_date', 'intro'}\n",
    "print(len(movie))\n",
    "print(*movie, sep=\"\\n\")\n",
    "#SAVING DATA INTO JSON FILE"
   ]
  },
  {
   "cell_type": "code",
   "execution_count": 128,
   "metadata": {
    "id": "uqUac35jw34s"
   },
   "outputs": [],
   "source": [
    "#SAVING DATA INTO JSON FILE\n",
    "import json\n",
    "with open(\"./moviedata.json\", \"w\",encoding = 'utf-8') as final:\n",
    "    json.dump(listObj, final,ensure_ascii=False)"
   ]
  },
  {
   "cell_type": "code",
   "execution_count": 131,
   "metadata": {
    "id": "E96bZAjNtCei"
   },
   "outputs": [
    {
     "name": "stdout",
     "output_type": "stream",
     "text": [
      "12238\n",
      "{'doc_id': 2, 'ch_name': '玩命關頭', 'en_name': 'The Fast and the Furious', 'label[class]': ['動作', '劇情', '犯罪', '懸疑/驚悚'], 'release_date': '2001-10-13', 'intro': '唐米尼杜洛托是洛城街頭賽車界的老大哥，他身邊有一群忠心耿耿的手下，他白天忙著組裝高性能跑車，晚上則是開著他的愛車，動輒以一次一萬美元的賭注和別人軋車。布萊恩也渴望接受極速的挑戰，他對自己的駕駛技術很有信心，但是在旁觀者的眼中他只是一個菜鳥，他開了一輛超炫的跑車想和唐老大一較高下，也希望得到他的青睞，當比賽結束，布萊恩輸得一塌塗地之後，警方接獲風聲前來取締，布萊恩在無意間從一名心狠手辣的幫派份子強尼手中救了唐老大一命，於是他就被納入唐老大的權力核心，唐老大的妹妹蜜雅也對布萊恩產生好感，但是他們都不知道布萊恩其實是一名臥底警探。布萊恩滲入賽車圈的目的是調查一連串的卡車搶案，嫌犯都是開著跑車的蒙面人，警方和聯邦調查局希望能儘早逮到搶匪，以免卡車司機採取激烈的手段對這些搶匪進行報復行動，其中最有嫌疑的就是唐老大和強尼。正當唐老大和強尼形成水火不相容的情勢。布萊恩和唐老大兄妹的關係卻越來越深，他不但和唐老大結為好友，更忍不住對蜜雅產生好感，但是他也同時承受來自警方和ＦＢＩ的壓力，必須儘快查出誰才是真正的搶匪，他在天人交戰之際，在法律和友情之間，必須做出困難的決定。'}\n"
     ]
    }
   ],
   "source": [
    "#APPENDING NEW DATA INTO FILE\n",
    "import json\n",
    "with open(\"./moviedata.json\", \"r\",encoding='utf-8') as fp:\n",
    "    listObj = json.load(fp)\n",
    "#     for m in movie:\n",
    "#         listObj.append(m)\n",
    "print(len(listObj))\n",
    "print(listObj[1])\n",
    "# with open(\"./hw2_1.json\", \"w\",encoding = 'utf-8') as final:\n",
    "#     json.dump(intro_all, final,ensure_ascii=False)"
   ]
  },
  {
   "cell_type": "code",
   "execution_count": 111,
   "metadata": {},
   "outputs": [],
   "source": [
    "import json\n",
    "with open(\"./moviedata.json\", \"r\",encoding = 'utf-8') as final:\n",
    "    listObj = json.load(final)"
   ]
  },
  {
   "cell_type": "code",
   "execution_count": 130,
   "metadata": {
    "colab": {
     "base_uri": "https://localhost:8080/"
    },
    "id": "cj0qNwlH0NBp",
    "outputId": "37be4129-2d94-4e8e-8af1-9134c542c040"
   },
   "outputs": [
    {
     "name": "stdout",
     "output_type": "stream",
     "text": [
      "true\n",
      "{'doc_id': 2, 'ch_name': '玩命關頭', 'en_name': 'The Fast and the Furious', 'label[class]': ['動作', '劇情', '犯罪', '懸疑/驚悚'], 'release_date': '2001-10-13', 'intro': '唐米尼杜洛托是洛城街頭賽車界的老大哥，他身邊有一群忠心耿耿的手下，他白天忙著組裝高性能跑車，晚上則是開著他的愛車，動輒以一次一萬美元的賭注和別人軋車。布萊恩也渴望接受極速的挑戰，他對自己的駕駛技術很有信心，但是在旁觀者的眼中他只是一個菜鳥，他開了一輛超炫的跑車想和唐老大一較高下，也希望得到他的青睞，當比賽結束，布萊恩輸得一塌塗地之後，警方接獲風聲前來取締，布萊恩在無意間從一名心狠手辣的幫派份子強尼手中救了唐老大一命，於是他就被納入唐老大的權力核心，唐老大的妹妹蜜雅也對布萊恩產生好感，但是他們都不知道布萊恩其實是一名臥底警探。布萊恩滲入賽車圈的目的是調查一連串的卡車搶案，嫌犯都是開著跑車的蒙面人，警方和聯邦調查局希望能儘早逮到搶匪，以免卡車司機採取激烈的手段對這些搶匪進行報復行動，其中最有嫌疑的就是唐老大和強尼。正當唐老大和強尼形成水火不相容的情勢。布萊恩和唐老大兄妹的關係卻越來越深，他不但和唐老大結為好友，更忍不住對蜜雅產生好感，但是他也同時承受來自警方和ＦＢＩ的壓力，必須儘快查出誰才是真正的搶匪，他在天人交戰之際，在法律和友情之間，必須做出困難的決定。'}\n"
     ]
    }
   ],
   "source": [
    "for l in listObj:\n",
    "    if 2 in l.values():\n",
    "        print(\"true\")\n",
    "        print(l)"
   ]
  },
  {
   "cell_type": "code",
   "execution_count": 133,
   "metadata": {
    "id": "XPV6XFieMy9D"
   },
   "outputs": [],
   "source": [
    "#INVERTED INDEX\n",
    "import jieba\n",
    "import re\n",
    "from zhon.hanzi import punctuation\n",
    "stopwords = [line.strip().replace('\\n','') for line in open('../hw1/stopwords.txt','r').readlines()]\n",
    "punctuations = [line.strip().replace('\\n','') for line in open('../hw1/punctuation.txt','r').readlines()]\n",
    "jieba.load_userdict('../hw1/userDict.txt')\n",
    "punctuation = list(punctuation)"
   ]
  },
  {
   "cell_type": "code",
   "execution_count": 134,
   "metadata": {},
   "outputs": [],
   "source": [
    "intro_all = []\n",
    "for content in listObj:\n",
    "    intro = content['intro'].replace('\\n','').replace('\\t','').replace('\\u3000','')\n",
    "    intro = re.sub('[^\\u4e00-\\u9fa5]','',intro)\n",
    "    intro = jieba.lcut(intro)\n",
    "    Intro = []\n",
    "    for word in intro:\n",
    "        if word not in stopwords:\n",
    "            Intro.append(word)\n",
    "    Intro.insert(0,content['ch_name'])\n",
    "    Intro.insert(0,content['doc_id'])\n",
    "    intro_all.append(Intro)"
   ]
  },
  {
   "cell_type": "code",
   "execution_count": 136,
   "metadata": {},
   "outputs": [],
   "source": [
    "words = {}\n",
    "for intro in intro_all:\n",
    "    for word in intro:\n",
    "        if word in words:\n",
    "            words[word].append(intro[0])\n",
    "        else:\n",
    "            words[word] = [intro[0]]"
   ]
  },
  {
   "cell_type": "code",
   "execution_count": null,
   "metadata": {
    "scrolled": false
   },
   "outputs": [],
   "source": [
    "from collections import Counter\n",
    "inverted_index = {}\n",
    "for i,j in words.items():\n",
    "    print(i)\n",
    "    wordcount = (Counter(j))\n",
    "    list(wordcount.items()).sort(key = lambda x : x[1],reverse = True)\n",
    "    wordcounts = list(wordcount.items())\n",
    "    inverted_index[i] = wordcounts"
   ]
  },
  {
   "cell_type": "code",
   "execution_count": 141,
   "metadata": {},
   "outputs": [],
   "source": [
    "#PAGERANK\n",
    "import networkx as nx\n",
    "G = nx.DiGraph()\n",
    "Edges = []\n",
    "for word,doc_id in inverted_index.items():\n",
    "    edges = []\n",
    "    for ID in doc_id[2:]:\n",
    "        if ID[0] != doc_id[0][0]:\n",
    "            edges.append((doc_id[0][0],ID[0]))\n",
    "        Edges.append(edges)"
   ]
  },
  {
   "cell_type": "code",
   "execution_count": 143,
   "metadata": {},
   "outputs": [],
   "source": [
    "for edges in Edges:\n",
    "    for edge in edges:\n",
    "        G.add_edge(edge[0],edge[1])"
   ]
  },
  {
   "cell_type": "code",
   "execution_count": null,
   "metadata": {},
   "outputs": [],
   "source": [
    "import networkx as nx\n",
    "pagerank_list = nx.pagerank(G,alpha = 1)\n",
    "print(pagerank_list)"
   ]
  },
  {
   "cell_type": "code",
   "execution_count": null,
   "metadata": {},
   "outputs": [],
   "source": [
    "PageRankList = list(pagerank_list.items())\n",
    "PageRankList.sort(key = lambda x:x[0])"
   ]
  },
  {
   "cell_type": "code",
   "execution_count": 233,
   "metadata": {},
   "outputs": [],
   "source": [
    "#CREATING DOC LINKS\n",
    "DOC_LINK = {}\n",
    "doc_link = []\n",
    "i = 0\n",
    "for data in inverted_index.values():\n",
    "    id_num = intro_all[i][0] \n",
    "    doc_id = data[0][0]\n",
    "    for ID in data:\n",
    "        if ID[0] not in doc_link and ID[0]!= doc_id:\n",
    "            doc_link.append(ID[0])\n",
    "    if doc_id != id_num:\n",
    "        i+=1\n",
    "        doc_link.sort()\n",
    "        DOC_LINK[id_num] = doc_link\n",
    "        doc_link = []\n",
    "    "
   ]
  },
  {
   "cell_type": "code",
   "execution_count": 298,
   "metadata": {},
   "outputs": [],
   "source": [
    "#SAVING DATA into json file hw2.json\n",
    "# print(dict(listObj[0]))\n",
    "DATA = []\n",
    "for listobj in listObj:\n",
    "    try:\n",
    "        d_link = DOC_LINK[dict(listobj)['doc_id']]\n",
    "    except:\n",
    "        d_link = \"None\"\n",
    "    try:\n",
    "        prl = dict(PageRankList)[dict(listobj)['doc_id']]\n",
    "    except:\n",
    "        prl = 0\n",
    "    info = {\n",
    "        'doc_id' : dict(listobj)['doc_id'],\n",
    "        'ch_name' : dict(listobj)['ch_name'],\n",
    "        'en_name' : dict(listobj)['en_name'],\n",
    "        'pagerank' : prl,\n",
    "        'label[class]' : dict(listobj)['label[class]'],\n",
    "        'intro' : dict(listobj)['intro'],\n",
    "        'release_data' : dict(listobj)['release_date'],\n",
    "        'links(doc_id)' : d_link,\n",
    "    }\n",
    "#     print(dict(listobj)['doc_id'])\n",
    "    DATA.append(info)\n"
   ]
  },
  {
   "cell_type": "code",
   "execution_count": 302,
   "metadata": {},
   "outputs": [],
   "source": [
    "#turn data into dictionary with id as key\n",
    "movie_data = {}\n",
    "for movie in DATA:\n",
    "    movie_data[dict(movie)['doc_id']] = movie"
   ]
  },
  {
   "cell_type": "markdown",
   "metadata": {},
   "source": [
    "# QUERY"
   ]
  },
  {
   "cell_type": "code",
   "execution_count": 440,
   "metadata": {},
   "outputs": [],
   "source": [
    "class search_engine():\n",
    "    def query(text):\n",
    "        count_all = 0\n",
    "        count = 0\n",
    "        movie_prl = []\n",
    "        movie_list = []\n",
    "        #find all movie related to text\n",
    "        regex = re.compile(rf'(.*){text}')\n",
    "        for movie,data in movie_data.items():\n",
    "            if regex.match(dict(data)['ch_name']) or regex.match(dict(data)['en_name']) or regex.match(dict(data)['intro']):\n",
    "                count_all += 1\n",
    "        for movie,index in inverted_index.items():\n",
    "            if str(text) in str(movie):\n",
    "                for i in index:\n",
    "                    movie_list.append(i[0])\n",
    "        #print all movies related with text\n",
    "        movies_list=list(dict.fromkeys(movie_list))\n",
    "        data = []\n",
    "        for ID in movies_list:\n",
    "            count+=1\n",
    "            data.append([movie_data[ID]['doc_id'],movie_data[ID]['pagerank'],movie_data[ID]['ch_name'], movie_data[ID]['en_name'],movie_data[ID]['intro']])\n",
    "        data.sort(key = lambda x:x[1],reverse = False)\n",
    "        for movie in data:\n",
    "            print(\"DOC_ID:\",movie[0])\n",
    "            print(\"CHINESE TITLE:\",movie[2])\n",
    "            print(\"ENGLISH TITLE:\",movie[3])\n",
    "            print(\"PAGERANK:\",movie[1])\n",
    "            print(\"INTRO:\",movie[4])\n",
    "            print(\"\\n\")\n",
    "        print(\"Precision = \"+ str(count/len(movie_list)*100)+\"%\")\n",
    "        print(\"Recall = \"+str(count/count_all*100)+\"%\")\n",
    "        print(count)\n",
    "        print(count_all)\n",
    "        print(len(movie_list))\n",
    "        "
   ]
  },
  {
   "cell_type": "code",
   "execution_count": 441,
   "metadata": {},
   "outputs": [
    {
     "name": "stdout",
     "output_type": "stream",
     "text": [
      "DOC_ID: 5248\n",
      "CHINESE TITLE: 殲滅天際線\n",
      "ENGLISH TITLE: Red Sky\n",
      "PAGERANK: 6.119591928664552e-05\n",
      "INTRO: ★《萬惡城市》製作群再現磅礡空戰，誓死炸翻大銀幕！麥斯是名飛行員，接獲上級任務進行殲滅行動，卻不料執行失誤，造成飛行戰隊極大損傷，麥斯也遭強迫除役。許久後，恐怖組織伺機而動，麥斯又被重招回部隊執行機密任務，卻發現他的朋友竟從昔日戰友變成敵軍。麥斯駕駛著戰鬥機，肩負著國家存亡，更為了平反個人榮辱，在浩瀚天際展開一場榮耀血戰。繼《捍衛戰士》、《空戰英豪》後，大銀幕上已經許久沒有出現空戰電影。此次由《萬惡城市》製片群再次重拾題材，斥資三億打造史詩級空戰。片中更結合當今反恐題材，讓故事更為貼近大眾。男主角肯吉甘特走紅於《暮光之城》，以《舞孃俱樂部》再次讓觀眾注意到這位帥氣小生。出眾的外型，被認為是布萊德彼特和柯林法瑞爾的合體，受到電影界的高度矚目。但31歲的他，其實十分專情，2009年與女友生下一女。揹著女兒逛大街的畫面，時常躍上雜誌報導。\n",
      "\n",
      "\n",
      "DOC_ID: 14847\n",
      "CHINESE TITLE: 噩夢輓歌 4K數位修復版\n",
      "ENGLISH TITLE: Requiem For A Dream\n",
      "PAGERANK: 7.295333251493753e-05\n",
      "INTRO: ★ 《黑天鵝》《我的鯨魚老爸》金獎名導成名代表作\r",
      "★ 《大法師》奧斯卡影后艾倫鮑絲汀再創演技新巔峰\r",
      "★ 《魔比斯》傑瑞德雷托、《捍衛戰士：獨行俠》珍妮佛康納莉超尺度演出\r",
      "★ 2001 奧斯卡金像獎 最佳女主角 入圍\r",
      "★ 2001 金球獎 戲劇類電影最佳女主角 入圍\r",
      "★ 2001 美國電影學會獎 年度十大電影\r",
      "★ 獲得全球近40個獎項肯定，網路流傳「十大禁片」之一\r",
      "★ 對藥物成癮者心理狀態描寫最細膩、最驚世駭俗的電影\r",
      "★ 全球最大、最具指標性電影網 IMDb 均分8.3高分神作，名列影史排名第85名佳片\r",
      "寡婦莎拉（艾倫鮑絲汀 飾）夢想穿著年輕時的紅洋裝上電視，於是決定靠藥物來瘦身。與此同時，她的兒子哈利（傑瑞德雷托 飾）和朋友泰隆（馬龍韋恩斯 飾）希望透過販售海洛因致富，哈利的女友瑪麗安（珍妮佛康納莉 飾）也加入他們的計畫。這時四人還不知道，藥物將使他們的人生走向不可挽回的境地……。\n",
      "\n",
      "\n",
      "DOC_ID: 13382\n",
      "CHINESE TITLE: 蜘蛛頭監獄\n",
      "ENGLISH TITLE: Spiderhead\n",
      "PAGERANK: 8.060887200117889e-05\n",
      "INTRO: 遠見十足的天才史帝夫·阿奈斯提 (Steve Abnesti)（克里斯·漢斯沃 (Chris Hemsworth) 飾）經營一座新穎的監獄。在這裡，受刑人必須穿戴透過手術接附的裝置，接受改變心智的藥物注射，聽來可怕，但好處是能減輕刑期。蜘蛛頭監獄 (Spiderhead) 沒有鐵窗、沒有牢房、也沒有橘色的連身囚服。志願參加的囚犯可以自由做自己，直到再也不是原本的自己。\r",
      "有時候，藥物能讓他們感覺良好。想讓心情好起來嗎？不如試試這款藥。覺得無言以對？我們也有好藥可用。然而，同為受試者的傑夫 (Jeff)（麥爾斯·泰勒 (Miles Teller) 飾）與莉琪 (Lizzy)（朱妮·絲莫利特 (Jurnee Smollett) 飾）結為好友，兩人的救贖之路也隨著阿奈斯提的實驗將自由意志逼到極限，而出現更詭譎的轉折。結合多種戲劇類型，同時展現黑色幽默的心理驚悚片《蜘蛛頭監獄》由約瑟夫·科辛斯基 (Joseph Kosinski)（《創：光速戰記》(Tron: Legacy)、《捍衛戰士：獨行俠》(Top Gun: Maverick)）執導，雷特·瑞斯 (Rhett Reese) 與保羅·韋尼克 (Paul Wernick)（《惡棍英雄：死侍》(Deadpool)、《屍樂園》(Zombieland)）編劇。\n",
      "\n",
      "\n",
      "DOC_ID: 14258\n",
      "CHINESE TITLE: 獵空計畫\n",
      "ENGLISH TITLE: Mission Sky\n",
      "PAGERANK: 8.147062219154974e-05\n",
      "INTRO: ★真實戰爭事件改編，兩名空軍軍官如何在嚴峻的戰場上擊退敵人，歷險歸來\r",
      "★ 命懸一線的浩瀚空戰場景，宛如《捍衛戰士》加上空戰版《不可能的任務》\r",
      "★《T-34：玩命坦克》視效團隊 X《守護者聯盟》聲音指導，聯手打造大銀幕獨有的感官震撼體驗，空戰類型電影全面升級\r",
      "★ 名列俄羅斯軍方必看電影清單，戰鬥民族的精神教科書\r",
      "育有一兒一女與妻子共組完美家庭的空軍中校歐列格，以及即將與妻子迎接新生命的空軍上尉康斯坦丁，性格、生活截然不同的兩人，因為俄國政府的決定，共同被派駐至敘利亞的空軍基地執行任務。兩人在戰場上合作無間、立下功勳，卻在一次摧毀敵方火箭發射器的行動中，因不慎掉入敵方的陷阱，駕駛的戰機慘遭擊墜，靠著彈射逃生的兩人雖然逃過一劫但也性命垂危⋯⋯。\r",
      "歐列格的妻子原本打算與丈夫安穩度過餘生，但歐列格卻選擇勇赴戰場，在艱困的任務中也不輕言放棄，這一切都源自於他與軍人父親的承諾，而他也將帶著這份承諾飛向天空，以行動來守護他堅持的信念。\r",
      "電影取材自發生於 2015 年敘利亞內戰期間的真實事件，是第一部以敘利亞內戰期間俄國反恐行動為題材的電影，還找來事件當事人康斯坦丁穆拉維歐夫少校擔任電影的首席顧問，完美還原事件發生的經過。而為了力求真實，電影除了在真正的軍事基地取景拍攝，主要演員也特地到軍營中受訓數個月，再加上片中巧妙融合了敘利亞戰爭期間的真實錄像，以及《T-34：玩命坦克》視效團隊與《守護者聯盟》聲音指導聯手打造的頂級視聽饗宴，宛如把觀眾帶回戰場前線，體驗空軍軍官面對種種嚴峻考驗時的掙扎與毅力。\n",
      "\n",
      "\n",
      "DOC_ID: 14113\n",
      "CHINESE TITLE: 極速甩尾\n",
      "ENGLISH TITLE: Alivehoon\n",
      "PAGERANK: 8.304584629459724e-05\n",
      "INTRO: ★ 《頭文字D》後睽違17年，又一賽車甩尾神作降臨！\r",
      "★ 日本前職業賽車手「甩尾王」土屋圭市監修與友情出演\r",
      "★ 繼《捍衛戰士：獨行俠》後大銀幕再度感受G力極限！\r",
      "★ 日本Yahoo!映畫網站觀眾評分4.6/5口碑爆棚！\r",
      "內向的大羽紘一不擅長與人溝通，但他卻是個遊戲天才，更是賽車遊戲的日本第一好手。此時一支面臨解散危機的甩尾車隊看上他的能力邀請他加入，從虛擬轉移到真實的他，面對失敗就會喪命無法重來的後果，以及為此賭上性命的其他車手。在這過程中他逐漸成長，並以熱情、勇氣及團隊力量，跨越一道又一道的難關。\n",
      "\n",
      "\n",
      "DOC_ID: 13632\n",
      "CHINESE TITLE: 決戰38度線\n",
      "ENGLISH TITLE: Devotion\n",
      "PAGERANK: 9.72965387573206e-05\n",
      "INTRO: ★真實故事同名暢銷小說改編　《12猛漢》《怒火邊界》製作團隊 打造年度最強戰爭動作鉅片\r",
      "★經典戰役躍上大銀幕 媲美《捍衛戰士：獨行俠》還原驚險空戰場面\r",
      "★《逃出絕命村》喬納森梅傑斯 《捍衛戰士：獨行俠》格蘭鮑威爾 領銜主演\r",
      "★一對不該被遺忘的英雄 一段血濃於水的同袍情感故事\r",
      "★戰火當前！面對步步逼近的敵軍 他們必須堅守信念、背水一戰\r",
      "真實故事同名暢銷小說改編，描述韓戰期間，美國非裔戰鬥機飛行員傑西（喬納森梅傑斯 飾）奉命加入突擊戰鬥機中隊，認識了同為戰鬥機駕駛的托馬斯（格蘭鮑威爾 飾）。在美國種族隔離制度之下，兩人發展出血濃於水的兄弟情感、一起執行超過20次戰鬥任務。一次行動中，傑西駕駛的僚機被擊落，一場驚險的救援行動即將展開•••。\n",
      "\n",
      "\n",
      "DOC_ID: 13705\n",
      "CHINESE TITLE: 法拉利\n",
      "ENGLISH TITLE: Ferrari\n",
      "PAGERANK: 0.00011002822036603912\n",
      "INTRO: 影集《法拉利》（“Ferrari”暫譯）改編「賽車之父」恩佐法拉利真實故事。根據暢銷書〈Ferrari Rex〉（由Luca Dal Monte撰寫）改編，這本被紐約時報稱作權威級的傳記作品，講述同時具有專業賽車手和企業家身份的恩佐法拉利，馳騁賽道多年的心境變化和歷經多年連環訴訟後對賽車運動文化的體悟。\r",
      "劇情時空為 1956 至 1961 年間，具有傳奇象徵意義的恩佐法拉利，先是經歷長子意外喪生、遭到領隊車手背叛後，與五位車手有「收養」為子的特殊關係，以重建車隊「Ferrari Spring Team」。這部伴隨悲傷與折磨譜出的五名車手、五條人命與一場訴訟的故事，也將帶我們一探究竟這位迷人又有偏執意念的「賽車之父」是如何打造出他的飆速天下。\r",
      "《捍衛戰士》團隊和布萊德彼特打造F1電影後，也不遑多讓再加入影集《法拉利》編劇史蒂芬奈特非常興奮能有機會講述全球數一數二經典品牌的雋永事蹟，他表示「這部影集將會是向恩佐法拉利戲劇性的個性，走成抱負、榮耀般傲氣的一生致敬的作品。」而身為義大利人的導演斯特法諾索利瑪（Stefano Sollima）對於能講述義大利的精神代表之一感到非常榮幸，目前與團隊正在 F1 方程式經典賽道之一的義大利羅馬拍攝。\n",
      "\n",
      "\n",
      "DOC_ID: 10159\n",
      "CHINESE TITLE: 捍衛戰士：獨行俠\n",
      "ENGLISH TITLE: Top Gun: Maverick\n",
      "PAGERANK: 0.00013106474210131686\n",
      "INTRO: 故事敘述服役超過30年，身為海軍頂尖飛行員的「獨行俠」彼得米契爾上校 (湯姆克魯斯 飾) 仍舊堅守他的崗位，以試飛員的身份不斷突破飛行極限，也放棄任何足以終止飛行生涯的晉升。他在訓練一組 TOP GUN 菁英小組去執行一個前所未聞的特殊任務時，遇見了已故搭檔「呆頭鵝」尼克布雷德蕭中尉的兒子-「公雞」布雷德利布雷德蕭中尉 (麥爾斯泰勒 飾) 。在面對不確定的未來和來自過去夢靨的影響下，「獨行俠」在這個要求飛行員奉獻出最終代價的行動裡，被迫面對自己最深層的心魔。\r",
      "【關於電影】\r",
      "《捍衛戰士：獨行俠》將於12月2日至12月15日期間限定在美國戲院重新上映，台灣重新上映檔期為12月7日(星期三)起，IMAX、ATMOS、DOLBY CINEMAS、LUXE、4DX、MX4D 全版本重返大銀幕。迄今為止，這部電影在北美票房收入超過7.16億美元，海外票房收入超過7.7億美元，全球累計票房超過14.8億美元；台灣影史票房第七名，全台累積票房破7.36億新台幣。\r",
      "《捍衛戰士：獨行俠》真正展現了大銀幕觀影體驗的魅力，我們想要提供所有影迷能再次享受這部電影的機會。派拉蒙影業國內發行總裁克里斯艾倫森說：「感覺此刻就是《捍衛戰士：獨行俠》重返戲院的絕佳時機，這樣全球各地的觀眾都可以再次體驗這部電影的獨特之處。」\r",
      "《捍衛戰士：獨行俠》在美國贏得評論家和觀眾的一致好評，並在爛番茄上獲得97%的評論家評分和99%的觀眾評分。破湯姆克魯斯從影以來首週開片和累積票房最高紀錄，破“陣亡將士紀念日週末”影史票房紀錄；破美國派拉蒙影業影史票房紀錄；破影史第一部電影在陣亡將士紀念日週末和勞動節週末票房排名第一的電影；同時，破Skydance電影製片的電影票房最高紀錄，其次是《不可能的任務：全面瓦解》。\n",
      "\n",
      "\n",
      "DOC_ID: 7272\n",
      "CHINESE TITLE: 氣象戰\n",
      "ENGLISH TITLE: Geostorm\n",
      "PAGERANK: 0.000137081687952072\n",
      "INTRO: 在一連串前所未有的大自然災難威脅地球之後，全世界的領導人聚首，一同創造出一套複雜的衛星網路，來控制全球氣候及保護全人類的安全。但如今出了狀況，這套原本用來保護地球的系統卻反過來攻擊地球，人類要與時間賽跑，在這場全球地磁風暴毀滅一切及天地萬物之前發現真正的威脅。最新懸疑冒險片《氣象戰》是《ID4星際重生》編劇兼製片人狄恩戴夫林執導的首部電影長片，由傑瑞德巴特勒（《全面攻佔：倒數救援》、《300壯士》）、吉姆史特格斯（《雲圖：穿越過去未來》）、艾比柯妮許（《藥命效應》）、亞歷珊卓瑪麗亞羅納（《決戰終點線》）、吳彥祖（《鐵拳男子》、《魔獸：崛起》）、歐亨尼奧德伯茲（《如何成為拉丁情人》），加上奧斯卡獎提名演員艾德哈里斯（《時時刻刻》、《阿波羅13》）及安迪賈西亞（《教父3》）主演。傑瑞德巴特勒飾演傑克，是一名科學家，他接獲任務要與他弟弟麥斯一同解決這個衛星計劃的機能失常，麥斯由吉姆史特格斯飾演；艾比柯妮許飾演特務探員莎拉威爾森；亞歷珊卓瑪麗亞羅納飾演國際太空站（ISS）的太空人尤蒂法斯賓達，她負責管理太空站；吳彥祖飾演鄭先生，荷蘭男孩計劃（Dutch Boy Program）的香港監督；歐亨尼奧德伯茲飾演太空站組員赫南德茲；安迪賈西亞飾演美國總統安德魯帕瑪；以及艾德哈里斯飾演國務卿李奧納德戴肯。其他卡司包括薩琪畢茲（新片《死侍2》、影集《亞特蘭大》）、阿德普波奧杜耶（《大賣空》、《自由之心》）、阿瑪威克（《露西》、《諜對諜》）及羅伯席安（《天使聖物：骸骨之城》、《魔女神兵》）。這部電影由狄恩戴夫林與保羅吉歐特編劇，製片人是狄恩戴夫林及Skydance公司的大衛艾利森與唐娜戈柏，監製是休伯特W甘恩斯、Electric Entertainment公司的馬克羅斯金及Skydance公司的唐格蘭傑，聯合製片人是克里夫蘭寧及Electric Entertainment公司的瑞秋歐夏恩。幕後創意團隊包括攝影指導羅伯特謝佛（《尋找新樂園》、《007量子危機》）；製作設計寇克M佩楚謝利（《白宮末日》）；剪接朗羅森（《哥吉拉》）、奧斯卡獎提名剪接克里斯利賓遜（《赤色風暴》、《捍衛戰士》）和奧斯卡獎提名剪接約翰雷佛（《阿凡達》）；服裝設計蘇珊麥特森（《大賣空》、《狡兔計畫》）；以及視覺效果監督傑佛瑞A歐昆（《超世紀封神榜》、《當地球停止轉動》）。配樂則是羅恩巴夫（《樂高蝙蝠俠電影》）。《氣象戰》由華納兄弟影業與Skydance公司出品，Skydance與Electric Entertainment公司製作，華納兄弟發行。預計於2017年10月20日起在全球上映，有2D、3D及IMAX版本。\n",
      "\n",
      "\n",
      "DOC_ID: 13876\n",
      "CHINESE TITLE: 晨間直播秀\n",
      "ENGLISH TITLE: The Morning Show\n",
      "PAGERANK: 0.00015440061737114212\n",
      "INTRO: 《晨間直播秀》觀眾不僅可以見到他與兩大影后珍妮佛安妮絲頓與瑞絲薇斯朋同台，與因該劇獲得艾美獎肯定的比利古達，更有許多劍拔弩張、令人期待的對手戲。目前影集第三季已進入最後製作階段。\r",
      "在知名影集《廣告狂人》擔任男主角的喬漢姆，曾因該劇多次獲得金球獎和艾美獎最佳男主角的提名和認可，在今年話題度最高的電影《捍衛戰士：獨行俠》中也擔任海軍中將「旋風」辛普森，讓自己的演技與帥氣度再上層樓。\r",
      "多年飾演廣告創意總監的喬漢姆，將把他七年扮演事業有成人物、卻又充滿不安與步步為營的惟妙惟肖樣貌，帶入《晨間直播秀》第三季，在劇中飾演事業有成的財團巨頭保羅馬克，試圖運用手段拉攏兩位主播和電視台總監比利古達達到收購 UBA 電視台的目的。\n",
      "\n",
      "\n",
      "DOC_ID: 14585\n",
      "CHINESE TITLE: 迫降危機\n",
      "ENGLISH TITLE: Plane\n",
      "PAGERANK: 0.0002587925106771915\n",
      "INTRO: ★《全面攻佔》《天劫倒數》製片團隊全新動作災難鉅獻\r",
      "★《變形金剛系列》《巨齒鯊系列》王牌製片耗資15億打造\r",
      "★《全面攻佔系列》動作巨星傑瑞德巴特勒陷入全新危機！\r",
      "★《復仇者聯盟系列》《變形金剛系列》動作團隊打造火爆動作場面\r",
      "★《捍衛戰士：獨行俠》《X戰警系列》特效團隊打造震撼災難場景\r",
      "★「約翰勒卡雷繼承人」英國暢銷諜報小說家查爾斯康明執筆劇本\r",
      "★遠赴波多黎各取景，真實呈現熱帶叢林的險惡\r",
      "★緊急迫降只是危機的開始……。\r",
      "客機機長布羅迪（傑瑞德巴特勒 飾）在一次航行中因為遇到風暴，而不得不緊急迫降，結果卻意外降落在被武裝份子佔據的菲律賓霍洛島，機上乘客隨即遭到歹徒挾持，出於身為機長的責任感，布羅迪決定和機上移送的謀殺犯路易斯（麥克寇特 飾）合作，無論如何都要救出乘客並把他們平安送回家……。\n",
      "\n",
      "\n",
      "DOC_ID: 13310\n",
      "CHINESE TITLE: 逃出封鎖線\n",
      "ENGLISH TITLE: The Pilot\n",
      "PAGERANK: 0.0002658320317511211\n",
      "INTRO: ★當週新片票房季軍，甫上映票房隨即強壓《惡靈古堡首部曲：拉昆市》《永恆族》，口碑持續熱映超過一個月\r",
      "★冒險刺激的空戰場面媲美《捍衛戰士》，強大堅定的生存意志比擬《127小時》\r",
      "★改編真實事件個人自傳，描繪二戰時期一個人如何隻身從敵軍戰區努力生存光榮重回母國領土，締造歷史上又一戰爭傳奇扉頁\r",
      "★《黑暗戰域》《外星異種》性格男星彼得費奧多羅夫，再次獨挑大樑挑戰詮釋帥氣飛行官，克服各種地貌氣候賣力演出\r",
      "★開場的地對空大戰揭開爆破刺激序幕，跟著主角深入敵軍險境，不到最後一刻絕對無法猜到的震撼結局\r",
      "死裡逃生、奪命追捕，真人真事大銀幕逃亡，不成功毋寧死！\r",
      "1941年11月二戰期間， 一支德國坦克軍隊正在向莫斯科前進。兩架Ilyushin-2對地攻擊戰機奉命前往阻止德軍進犯，在阻止敵人前進的任務中，空軍隊長尼古拉康姆列夫的飛機被迫降落在敵軍領地。尼古拉康姆列夫的夥伴紹塔為了引開敵軍，就把尼古拉放在一塊浮冰上。恢復意識的尼古拉，試圖在冰冷的敵人領地同時忍受酷寒、飢餓、野狼追趕和納粹軍隊追捕。經過一番辛苦的歷險，他總算成功回到自己國家的領地，但也因為受傷麻木的雙腿而進了醫院，性命垂危。他究竟是否能甦醒展開全新生活，迎接等待他的國家與戀人呢？\r",
      "《逃出封鎖線》是由真人實事改編，故事靈感來自於二戰時期的一位飛行員，英勇奮戰努力從敵軍領土成功逃亡回家的傳奇故事。電影中冒險刺激的空戰場面媲美《捍衛戰士》，強大堅定的生存意志比擬《127小時》，絕對令人嘆為觀止。片中飾演這位傳奇飛官的男主角則是由參與過《黑暗戰域》、《外星異種》的性格男星彼得費奧多羅夫，再次獨挑大樑挑戰克服各種地貌氣候的賣力演技。甫在俄國一上映就奪下當週新片票房季軍，票房強壓《惡靈古堡首部曲：拉昆市》、《永恆族》等娛樂距片，口碑持續熱映超過一個月。電影一開場的地對空大戰即揭開爆破刺激序幕，跟著主角深入敵軍險境，不到最後一刻絕對無法猜到的震撼結局，是軍事宅、戰爭迷們絕對不容錯過的二戰經典作品，覺得好久沒有感受到大銀幕的轟炸刺激嗎？《逃出封鎖線》將再次引領觀眾體驗視覺感官新風潮！\n",
      "\n",
      "\n",
      "Precision = 92.3076923076923%\n",
      "Recall = 100.0%\n",
      "12\n",
      "12\n",
      "13\n"
     ]
    }
   ],
   "source": [
    "search_engine.query(\"捍衛戰士\")"
   ]
  },
  {
   "cell_type": "code",
   "execution_count": null,
   "metadata": {},
   "outputs": [],
   "source": []
  },
  {
   "cell_type": "code",
   "execution_count": null,
   "metadata": {},
   "outputs": [],
   "source": []
  }
 ],
 "metadata": {
  "colab": {
   "provenance": []
  },
  "kernelspec": {
   "display_name": "Python 3 (ipykernel)",
   "language": "python",
   "name": "python3"
  },
  "language_info": {
   "codemirror_mode": {
    "name": "ipython",
    "version": 3
   },
   "file_extension": ".py",
   "mimetype": "text/x-python",
   "name": "python",
   "nbconvert_exporter": "python",
   "pygments_lexer": "ipython3",
   "version": "3.8.13"
  }
 },
 "nbformat": 4,
 "nbformat_minor": 1
}
