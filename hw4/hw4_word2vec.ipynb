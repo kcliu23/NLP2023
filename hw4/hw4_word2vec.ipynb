{
 "cells": [
  {
   "cell_type": "code",
   "execution_count": 1,
   "id": "3769fa4e",
   "metadata": {},
   "outputs": [],
   "source": [
    "%load_ext memory_profiler\n",
    "# !pip install -q zhconv"
   ]
  },
  {
   "cell_type": "code",
   "execution_count": 2,
   "id": "12f8a64d",
   "metadata": {},
   "outputs": [
    {
     "name": "stdout",
     "output_type": "stream",
     "text": [
      "gensim 4.3.1\n",
      "jieba 0.42.1\n"
     ]
    }
   ],
   "source": [
    "import os \n",
    "\n",
    "# Packages\n",
    "import gensim\n",
    "import jieba\n",
    "import zhconv\n",
    "from gensim.corpora import WikiCorpus\n",
    "from datetime import datetime as dt\n",
    "from typing import List\n",
    "\n",
    "\n",
    "if not os.path.isfile('dict.txt.big'):\n",
    "    !wget https://github.com/fxsjy/jieba/raw/master/extra_dict/dict.txt.big\n",
    "jieba.set_dictionary('dict.txt.big')\n",
    "\n",
    "print(\"gensim\", gensim.__version__)\n",
    "print(\"jieba\", jieba.__version__)"
   ]
  },
  {
   "cell_type": "code",
   "execution_count": 3,
   "id": "50cca24f",
   "metadata": {},
   "outputs": [
    {
     "name": "stdout",
     "output_type": "stream",
     "text": [
      "2.6G\tzhwiki-20230501-pages-articles-multistream.xml.bz2\n",
      "MD5 (zhwiki-20230501-pages-articles-multistream.xml.bz2) = 27e78ff901bcd3803955d9373537dd3f\n",
      "zhwiki-20230501-pages-articles-multistream.xml.bz2: bzip2 compressed data, block size = 900k\n"
     ]
    }
   ],
   "source": [
    "ZhWiki = \"zhwiki-20230501-pages-articles-multistream.xml.bz2\"\n",
    "\n",
    "!du -sh $ZhWiki\n",
    "!md5 $ZhWiki\n",
    "!file $ZhWiki"
   ]
  },
  {
   "cell_type": "code",
   "execution_count": 4,
   "id": "75b8a920",
   "metadata": {
    "scrolled": true
   },
   "outputs": [],
   "source": [
    "import spacy\n",
    "nlp_zh = spacy.load(\"zh_core_web_sm\")\n",
    "nlp_en = spacy.load(\"en_core_web_sm\")\n",
    "# spacy.cli.download(\"zh_core_web_sm\")  # 下載 spacy 中文模組\n",
    "# spacy.cli.download(\"en_core_web_sm\")  # 下載 spacy 英文模組"
   ]
  },
  {
   "cell_type": "code",
   "execution_count": 7,
   "id": "7068e0ff",
   "metadata": {},
   "outputs": [],
   "source": [
    "from f import preprocess_and_tokenize"
   ]
  },
  {
   "cell_type": "code",
   "execution_count": 8,
   "id": "992a3cd1",
   "metadata": {
    "scrolled": true
   },
   "outputs": [
    {
     "name": "stdout",
     "output_type": "stream",
     "text": [
      "Parsing zhwiki-20230501-pages-articles-multistream.xml.bz2...\n"
     ]
    },
    {
     "name": "stderr",
     "output_type": "stream",
     "text": [
      "/Users/kaichengliu/opt/anaconda3/lib/python3.8/site-packages/gensim/utils.py:1333: UserWarning: detected OSX with python3.8+; aliasing chunkize to chunkize_serial\n",
      "  warnings.warn(\"detected %s; aliasing chunkize to chunkize_serial\" % entity)\n",
      "Building prefix dict from the default dictionary ...\n",
      "Building prefix dict from the default dictionary ...\n",
      "Building prefix dict from the default dictionary ...\n",
      "Building prefix dict from the default dictionary ...\n",
      "Building prefix dict from the default dictionary ...\n",
      "Building prefix dict from the default dictionary ...\n",
      "Building prefix dict from the default dictionary ...\n",
      "Dumping model to file cache /var/folders/2m/2yp8xh891bd67xxdsy56_6gc0000gn/T/jieba.cache\n",
      "Dumping model to file cache /var/folders/2m/2yp8xh891bd67xxdsy56_6gc0000gn/T/jieba.cache\n",
      "Dumping model to file cache /var/folders/2m/2yp8xh891bd67xxdsy56_6gc0000gn/T/jieba.cache\n",
      "Dumping model to file cache /var/folders/2m/2yp8xh891bd67xxdsy56_6gc0000gn/T/jieba.cache\n",
      "Dumping model to file cache /var/folders/2m/2yp8xh891bd67xxdsy56_6gc0000gn/T/jieba.cache\n",
      "Dumping model to file cache /var/folders/2m/2yp8xh891bd67xxdsy56_6gc0000gn/T/jieba.cache\n",
      "Dumping model to file cache /var/folders/2m/2yp8xh891bd67xxdsy56_6gc0000gn/T/jieba.cache\n",
      "Loading model cost 1.629 seconds.\n",
      "Prefix dict has been built successfully.\n",
      "Loading model cost 1.593 seconds.\n",
      "Prefix dict has been built successfully.\n",
      "Loading model cost 1.618 seconds.\n",
      "Prefix dict has been built successfully.\n",
      "Loading model cost 1.537 seconds.\n",
      "Prefix dict has been built successfully.\n",
      "Loading model cost 1.511 seconds.\n",
      "Prefix dict has been built successfully.\n",
      "Loading model cost 1.549 seconds.\n",
      "Prefix dict has been built successfully.\n",
      "Loading model cost 1.517 seconds.\n",
      "Prefix dict has been built successfully.\n"
     ]
    },
    {
     "name": "stdout",
     "output_type": "stream",
     "text": [
      "peak memory: 2019.65 MiB, increment: 807.10 MiB\n",
      "CPU times: user 38min 24s, sys: 4min 16s, total: 42min 41s\n",
      "Wall time: 1h 37min 32s\n"
     ]
    }
   ],
   "source": [
    "%%time\n",
    "%%memit\n",
    "\n",
    "print(f\"Parsing {ZhWiki}...\")\n",
    "wiki_corpus = WikiCorpus(ZhWiki, tokenizer_func=preprocess_and_tokenize, token_min_len=1)"
   ]
  },
  {
   "cell_type": "code",
   "execution_count": 9,
   "id": "ba21cb39",
   "metadata": {},
   "outputs": [
    {
     "name": "stderr",
     "output_type": "stream",
     "text": [
      "Building prefix dict from the default dictionary ...\n",
      "Loading model from cache /var/folders/2m/2yp8xh891bd67xxdsy56_6gc0000gn/T/jieba.cache\n",
      "Building prefix dict from the default dictionary ...\n",
      "Loading model from cache /var/folders/2m/2yp8xh891bd67xxdsy56_6gc0000gn/T/jieba.cache\n",
      "Building prefix dict from the default dictionary ...\n",
      "Loading model from cache /var/folders/2m/2yp8xh891bd67xxdsy56_6gc0000gn/T/jieba.cache\n",
      "Building prefix dict from the default dictionary ...\n",
      "Loading model from cache /var/folders/2m/2yp8xh891bd67xxdsy56_6gc0000gn/T/jieba.cache\n",
      "Building prefix dict from the default dictionary ...\n",
      "Loading model from cache /var/folders/2m/2yp8xh891bd67xxdsy56_6gc0000gn/T/jieba.cache\n",
      "Building prefix dict from the default dictionary ...\n",
      "Loading model from cache /var/folders/2m/2yp8xh891bd67xxdsy56_6gc0000gn/T/jieba.cache\n",
      "Building prefix dict from the default dictionary ...\n",
      "Loading model from cache /var/folders/2m/2yp8xh891bd67xxdsy56_6gc0000gn/T/jieba.cache\n",
      "Loading model cost 1.252 seconds.\n",
      "Prefix dict has been built successfully.\n",
      "Loading model cost 1.272 seconds.\n",
      "Prefix dict has been built successfully.\n",
      "Loading model cost 1.285 seconds.\n",
      "Prefix dict has been built successfully.\n",
      "Loading model cost 1.294 seconds.\n",
      "Prefix dict has been built successfully.\n",
      "Loading model cost 1.266 seconds.\n",
      "Prefix dict has been built successfully.\n",
      "Loading model cost 1.287 seconds.\n",
      "Prefix dict has been built successfully.\n",
      "Loading model cost 1.275 seconds.\n",
      "Prefix dict has been built successfully.\n"
     ]
    },
    {
     "name": "stdout",
     "output_type": "stream",
     "text": [
      "['歐幾裡', '西元前', '三世', '紀的', '古希臘', '數學家', '幾何', '之父', '此畫', '為拉斐爾']\n",
      "['蘇', '格拉', '底', '死', '雅克', '路易', '大衛', '所繪', '1787', '年']\n",
      "['文學', '狹義上', '一種', '語言藝術', '語言', '文字', '手段', '形象化', '客觀', '社會']\n"
     ]
    }
   ],
   "source": [
    "g = wiki_corpus.get_texts()\n",
    "print(next(g)[:10])\n",
    "print(next(g)[:10])\n",
    "print(next(g)[:10])\n"
   ]
  },
  {
   "cell_type": "code",
   "execution_count": 11,
   "id": "4db5d13c",
   "metadata": {},
   "outputs": [
    {
     "name": "stderr",
     "output_type": "stream",
     "text": [
      "Building prefix dict from the default dictionary ...\n",
      "Loading model from cache /var/folders/2m/2yp8xh891bd67xxdsy56_6gc0000gn/T/jieba.cache\n",
      "Building prefix dict from the default dictionary ...\n",
      "Loading model from cache /var/folders/2m/2yp8xh891bd67xxdsy56_6gc0000gn/T/jieba.cache\n",
      "Building prefix dict from the default dictionary ...\n",
      "Loading model from cache /var/folders/2m/2yp8xh891bd67xxdsy56_6gc0000gn/T/jieba.cache\n",
      "Building prefix dict from the default dictionary ...\n",
      "Loading model from cache /var/folders/2m/2yp8xh891bd67xxdsy56_6gc0000gn/T/jieba.cache\n",
      "Building prefix dict from the default dictionary ...\n",
      "Loading model from cache /var/folders/2m/2yp8xh891bd67xxdsy56_6gc0000gn/T/jieba.cache\n",
      "Building prefix dict from the default dictionary ...\n",
      "Loading model from cache /var/folders/2m/2yp8xh891bd67xxdsy56_6gc0000gn/T/jieba.cache\n",
      "Building prefix dict from the default dictionary ...\n",
      "Loading model from cache /var/folders/2m/2yp8xh891bd67xxdsy56_6gc0000gn/T/jieba.cache\n",
      "Loading model cost 0.997 seconds.\n",
      "Prefix dict has been built successfully.\n",
      "Loading model cost 1.011 seconds.\n",
      "Prefix dict has been built successfully.\n",
      "Loading model cost 1.027 seconds.\n",
      "Prefix dict has been built successfully.\n",
      "Loading model cost 1.019 seconds.\n",
      "Prefix dict has been built successfully.\n",
      "Loading model cost 0.993 seconds.\n",
      "Prefix dict has been built successfully.\n",
      "Loading model cost 0.999 seconds.\n",
      "Prefix dict has been built successfully.\n",
      "Loading model cost 1.076 seconds.\n",
      "Prefix dict has been built successfully.\n"
     ]
    },
    {
     "name": "stdout",
     "output_type": "stream",
     "text": [
      "[2023-05-12 00:49:33] 已寫入 99999 篇斷詞文章\n",
      "[2023-05-12 00:59:42] 已寫入 199999 篇斷詞文章\n",
      "[2023-05-12 01:08:39] 已寫入 299999 篇斷詞文章\n",
      "[2023-05-12 01:16:44] 已寫入 399999 篇斷詞文章\n",
      "[2023-05-12 01:24:49] 已寫入 499999 篇斷詞文章\n",
      "[2023-05-12 01:31:20] 已寫入 599999 篇斷詞文章\n",
      "[2023-05-12 01:39:23] 已寫入 699999 篇斷詞文章\n",
      "[2023-05-12 01:47:13] 已寫入 799999 篇斷詞文章\n"
     ]
    }
   ],
   "source": [
    "WIKI_SEG_TXT = \"wiki_seg.txt\"\n",
    "\n",
    "generator = wiki_corpus.get_texts()\n",
    "\n",
    "with open(WIKI_SEG_TXT, \"w\", encoding='utf-8') as output:\n",
    "    for texts_num, tokens in enumerate(generator):\n",
    "        output.write(\" \".join(tokens) + \"\\n\")\n",
    "\n",
    "        if (texts_num + 1) % 100000 == 0:\n",
    "            print(f\"[{str(dt.now()):.19}] 已寫入 {texts_num} 篇斷詞文章\")"
   ]
  },
  {
   "cell_type": "code",
   "execution_count": 16,
   "id": "a17f0b28",
   "metadata": {},
   "outputs": [
    {
     "name": "stdout",
     "output_type": "stream",
     "text": [
      "Use 8 workers to train Word2Vec (dim=300)\n",
      "CPU times: user 2h 43min 18s, sys: 2min 5s, total: 2h 45min 23s\n",
      "Wall time: 33min 41s\n"
     ]
    }
   ],
   "source": [
    "%%time\n",
    "\n",
    "from gensim.models import word2vec\n",
    "import multiprocessing\n",
    "\n",
    "max_cpu_counts = multiprocessing.cpu_count()\n",
    "word_dim_size = 300\n",
    "print(f\"Use {max_cpu_counts} workers to train Word2Vec (dim={word_dim_size})\")\n",
    "\n",
    "\n",
    "sentences = word2vec.LineSentence(WIKI_SEG_TXT)\n",
    "\n",
    "model = word2vec.Word2Vec(sentences, vector_size=word_dim_size, workers=max_cpu_counts)\n",
    "\n",
    "output_model = f\"word2vec.zh.{word_dim_size}.model\"\n",
    "model.save(output_model)"
   ]
  },
  {
   "cell_type": "code",
   "execution_count": 17,
   "id": "692672e3",
   "metadata": {},
   "outputs": [
    {
     "name": "stdout",
     "output_type": "stream",
     "text": [
      "word2vec.zh.300.model                word2vec.zh.300.model.wv.vectors.npy\r\n",
      "word2vec.zh.300.model.syn1neg.npy\r\n"
     ]
    }
   ],
   "source": [
    "! ls word2vec.zh*"
   ]
  },
  {
   "cell_type": "code",
   "execution_count": 18,
   "id": "2eadf8b7",
   "metadata": {},
   "outputs": [
    {
     "name": "stdout",
     "output_type": "stream",
     "text": [
      " 57M\tword2vec.zh.300.model\r\n",
      "2.0G\tword2vec.zh.300.model.syn1neg.npy\r\n",
      "2.0G\tword2vec.zh.300.model.wv.vectors.npy\r\n"
     ]
    }
   ],
   "source": [
    "! du -sh word2vec.zh*"
   ]
  },
  {
   "cell_type": "code",
   "execution_count": 19,
   "id": "6c4d22c4",
   "metadata": {},
   "outputs": [
    {
     "name": "stdout",
     "output_type": "stream",
     "text": [
      "(1795845, 300)\n"
     ]
    },
    {
     "data": {
      "text/plain": [
       "array([[-8.9804405e-01, -6.1582553e-01, -2.0657480e+00, ...,\n",
       "         3.0532640e-01, -2.0539918e+00,  2.4737072e-01],\n",
       "       [-6.8318689e-01, -2.7498755e-01, -2.3455980e+00, ...,\n",
       "         5.1383954e-01, -4.1464081e+00,  7.0632869e-01],\n",
       "       [ 5.9505785e-01, -3.8984559e+00, -3.6878426e+00, ...,\n",
       "        -5.4230469e-01, -8.8972461e-01, -1.7220721e+00],\n",
       "       ...,\n",
       "       [-3.9683364e-02,  5.5359375e-02, -1.9255705e-02, ...,\n",
       "        -4.8501860e-02, -1.8312057e-02, -4.9458582e-02],\n",
       "       [-3.6725014e-02,  2.8391223e-04,  4.6228167e-02, ...,\n",
       "         1.3471413e-03,  2.9617954e-02,  8.6252647e-04],\n",
       "       [-7.0929840e-02,  5.5286088e-03, -2.8707324e-02, ...,\n",
       "        -1.4371433e-02, -8.0098964e-02,  3.3185694e-02]], dtype=float32)"
      ]
     },
     "execution_count": 19,
     "metadata": {},
     "output_type": "execute_result"
    }
   ],
   "source": [
    "print(model.wv.vectors.shape)\n",
    "model.wv.vectors"
   ]
  },
  {
   "cell_type": "code",
   "execution_count": 21,
   "id": "d5461160",
   "metadata": {},
   "outputs": [
    {
     "name": "stdout",
     "output_type": "stream",
     "text": [
      "(300,)\n"
     ]
    },
    {
     "data": {
      "text/plain": [
       "array([ 0.52072793, -1.6518036 ,  0.36288863,  1.135915  , -0.70304835,\n",
       "        1.8427767 ,  2.8063443 ,  0.3151409 , -0.24242602,  1.7130088 ,\n",
       "       -2.3480964 , -0.33735946,  2.3137958 ,  2.378177  ,  1.5551311 ,\n",
       "        1.6362667 , -0.363144  ,  0.9505343 , -3.3144307 , -0.5378922 ,\n",
       "       -0.9810759 , -3.0546303 , -0.5947663 ,  0.49536592, -1.0434953 ,\n",
       "       -1.6851808 ,  0.05314718, -2.4895465 , -1.3067619 ,  0.36291975,\n",
       "       -0.29339752, -1.2593311 ,  2.8497407 ,  1.3100216 ,  0.3798682 ,\n",
       "       -0.01096008,  0.41875076,  1.2550446 , -0.4058333 ,  0.5590972 ,\n",
       "       -1.0038521 , -2.8408015 , -2.3901646 , -1.503638  ,  0.67122   ,\n",
       "        0.44948995, -1.7289228 ,  3.6393576 , -1.0319693 , -0.97675735,\n",
       "       -0.20535083,  1.4012731 , -1.7907532 , -0.22726612, -1.309933  ,\n",
       "       -0.594253  ,  1.0532155 ,  0.2436298 ,  3.8445463 , -1.1118541 ,\n",
       "        0.58783054, -0.18030244,  2.5362673 , -0.16973338, -0.833415  ,\n",
       "        0.15504768, -0.30341446, -0.31407633,  2.1811786 , -1.0813227 ,\n",
       "        1.1266313 , -0.09310023,  0.5643399 ,  0.04777153,  2.2637548 ,\n",
       "        3.0563805 ,  0.9590055 ,  0.9550096 ,  1.5268732 , -0.16656902,\n",
       "        0.37066597,  1.8510469 ,  0.23027307, -1.3373727 ,  1.1370852 ,\n",
       "        0.08197025, -2.4749882 , -0.84463763,  0.6633244 ,  1.5305537 ,\n",
       "        0.47227532, -2.1427178 , -1.9209265 ,  0.21254745,  0.8459894 ,\n",
       "       -0.6183559 , -1.3738403 ,  1.7637836 ,  1.4814557 ,  1.2859105 ,\n",
       "       -0.13078265, -2.544083  , -1.8408682 ,  1.3910108 , -0.37135538,\n",
       "       -1.5476817 ,  0.5845316 , -1.9944983 , -0.8271785 ,  1.0413675 ,\n",
       "        3.478696  , -0.03621124, -0.00833122, -2.2498865 ,  0.42145136,\n",
       "        0.87444913,  1.7574667 , -2.261779  , -1.9068464 ,  0.5304237 ,\n",
       "       -1.3953812 ,  1.0734229 , -2.247176  ,  0.67458254, -1.2645268 ,\n",
       "       -0.6227138 , -0.88734484,  1.5191737 , -0.01728725,  0.1839151 ,\n",
       "       -1.0788031 , -0.36952817,  0.7667618 , -0.2826106 , -2.45538   ,\n",
       "        1.2123202 , -0.80780125,  0.9454721 ,  0.69413257,  2.3255794 ,\n",
       "       -2.2571428 ,  0.13410896,  0.62153715,  3.108441  ,  0.8032581 ,\n",
       "        0.06835987, -0.15267569, -0.01495016,  0.06116261, -1.2217599 ,\n",
       "        0.10699552, -0.83401656, -2.2781394 , -1.2594914 ,  0.76290804,\n",
       "        3.789427  , -1.2343781 , -0.36470515,  0.6075259 , -1.1035403 ,\n",
       "        0.5488379 , -3.0323946 ,  0.35713112, -1.6817954 , -1.8494017 ,\n",
       "       -1.8565239 ,  0.646627  ,  1.8296556 , -1.7754846 , -0.09964415,\n",
       "       -2.2628238 ,  0.72121954,  0.76173884, -0.17306203,  0.33107468,\n",
       "       -2.9879072 ,  1.4218646 , -1.3931118 , -1.0621144 , -0.546853  ,\n",
       "       -1.9520303 ,  0.47924942,  1.0256658 ,  1.2909127 ,  1.8193763 ,\n",
       "       -0.8595991 , -1.3042834 ,  0.40604672, -0.17011577, -1.3653984 ,\n",
       "        1.7019204 , -4.461056  ,  0.5317203 ,  0.40313295,  4.3814926 ,\n",
       "        1.7012216 , -0.15868495,  0.768121  , -0.40178722, -0.2687057 ,\n",
       "        3.5909367 , -2.1233828 ,  1.4476473 , -1.1029419 ,  0.42281136,\n",
       "        2.0539784 , -2.700973  , -1.3358669 , -0.7420144 ,  1.8476152 ,\n",
       "       -0.00638305,  0.00814767, -0.13205753,  1.4886452 ,  0.47005263,\n",
       "        1.1000513 , -1.4177285 , -0.50822717, -0.9965469 ,  1.8610064 ,\n",
       "       -1.1591445 ,  0.17966165,  0.1506077 , -0.07027501,  0.12843366,\n",
       "       -0.65926605, -0.28592187, -1.5827903 ,  1.6404732 , -1.2585398 ,\n",
       "       -1.2994282 , -0.28035772, -2.1745868 ,  3.900518  , -0.9090284 ,\n",
       "        0.44346768,  1.8960009 , -0.8785855 ,  0.8574798 , -2.5014231 ,\n",
       "        1.7498785 ,  0.36479485, -1.464113  , -0.15043321, -1.5082169 ,\n",
       "        1.2897736 , -2.9128196 , -0.9943601 ,  1.7838794 ,  0.6131538 ,\n",
       "        0.41155478, -0.7988246 ,  0.61847734,  0.42134854,  0.29117203,\n",
       "        1.8067286 , -3.093319  , -1.0415454 ,  0.04076328, -0.7647599 ,\n",
       "        0.58683854,  1.062825  , -0.5477041 , -1.2421118 , -1.6041924 ,\n",
       "       -0.5225819 ,  1.4514538 ,  0.72582275, -0.5801124 ,  0.3154741 ,\n",
       "        0.10474767, -1.6237147 , -1.056725  , -0.17724873, -2.2321765 ,\n",
       "        0.12747808,  1.7704551 , -1.666156  ,  1.9570284 , -3.0715609 ,\n",
       "       -0.248687  ,  2.6662476 ,  0.59851825, -1.1653717 , -1.5669887 ,\n",
       "       -2.4165962 ,  3.4639125 ,  1.0410556 ,  2.0990322 , -2.1556349 ,\n",
       "       -1.3394848 , -3.17473   ,  0.80243057, -1.5371408 , -1.80441   ,\n",
       "       -1.1453549 , -0.53952533,  0.70419157, -0.02630014, -3.437272  ],\n",
       "      dtype=float32)"
      ]
     },
     "execution_count": 21,
     "metadata": {},
     "output_type": "execute_result"
    }
   ],
   "source": [
    "vec = model.wv['數學家']\n",
    "print(vec.shape)\n",
    "vec "
   ]
  },
  {
   "cell_type": "code",
   "execution_count": 23,
   "id": "8adf8513",
   "metadata": {},
   "outputs": [
    {
     "name": "stdout",
     "output_type": "stream",
     "text": [
      "\"Key '這肯定沒見過 ' not present\"\n"
     ]
    }
   ],
   "source": [
    "word = \"這肯定沒見過 \"\n",
    "\n",
    "try:\n",
    "    vec = model.wv[word]\n",
    "except KeyError as e:\n",
    "    print(e)"
   ]
  },
  {
   "cell_type": "code",
   "execution_count": 24,
   "id": "8d432166",
   "metadata": {},
   "outputs": [
    {
     "data": {
      "text/plain": [
       "[('飲品', 0.8073071837425232),\n",
       " ('酒類', 0.6659426689147949),\n",
       " ('含酒精', 0.6561747193336487),\n",
       " ('瓶裝', 0.6519318222999573),\n",
       " ('果汁', 0.648198127746582),\n",
       " ('類飲料', 0.6387940645217896),\n",
       " ('罐裝', 0.6385535001754761),\n",
       " ('無糖', 0.6312093734741211),\n",
       " ('中下藥', 0.6241925358772278),\n",
       " ('熱飲', 0.6208222508430481)]"
      ]
     },
     "execution_count": 24,
     "metadata": {},
     "output_type": "execute_result"
    }
   ],
   "source": [
    "model.wv.most_similar(\"飲料\", topn=10)"
   ]
  },
  {
   "cell_type": "code",
   "execution_count": 25,
   "id": "35d42710",
   "metadata": {},
   "outputs": [
    {
     "data": {
      "text/plain": [
       "[('truck', 0.6935850977897644),\n",
       " ('seat', 0.687899112701416),\n",
       " ('saloon', 0.6666427254676819),\n",
       " ('tikita', 0.6554520130157471),\n",
       " ('wagon', 0.6397509574890137),\n",
       " ('videna', 0.6372187733650208),\n",
       " ('cars', 0.6315094232559204),\n",
       " ('driving', 0.6306036710739136),\n",
       " ('chevrolet', 0.627369225025177),\n",
       " ('pickup', 0.627359926700592)]"
      ]
     },
     "execution_count": 25,
     "metadata": {},
     "output_type": "execute_result"
    }
   ],
   "source": [
    "model.wv.most_similar(\"car\")"
   ]
  },
  {
   "cell_type": "code",
   "execution_count": 26,
   "id": "56e5d252",
   "metadata": {},
   "outputs": [
    {
     "data": {
      "text/plain": [
       "[('臉書', 0.7975596785545349),\n",
       " ('專頁', 0.7508485317230225),\n",
       " ('instagram', 0.733160138130188),\n",
       " ('面書', 0.7203158140182495),\n",
       " ('貼文', 0.7138100266456604),\n",
       " ('twitter', 0.6872799396514893),\n",
       " ('推特', 0.6858128309249878),\n",
       " ('粉絲團', 0.6795867085456848),\n",
       " ('粉絲頁', 0.677693784236908),\n",
       " ('臉書粉', 0.6592646837234497)]"
      ]
     },
     "execution_count": 26,
     "metadata": {},
     "output_type": "execute_result"
    }
   ],
   "source": [
    "model.wv.most_similar(\"facebook\")"
   ]
  },
  {
   "cell_type": "code",
   "execution_count": 34,
   "id": "1ed92629",
   "metadata": {},
   "outputs": [
    {
     "data": {
      "text/plain": [
       "[('birthday', 0.6514894366264343),\n",
       " ('joyful', 0.6371191740036011),\n",
       " ('xmas', 0.6153290867805481),\n",
       " ('lucky', 0.6140486598014832),\n",
       " ('wish', 0.6123074889183044),\n",
       " ('unhappy', 0.6120163798332214),\n",
       " ('lovely', 0.6077404618263245),\n",
       " ('merry', 0.6035582423210144),\n",
       " ('ending', 0.6033361554145813),\n",
       " ('kappy', 0.6021612882614136)]"
      ]
     },
     "execution_count": 34,
     "metadata": {},
     "output_type": "execute_result"
    }
   ],
   "source": [
    "model.wv.most_similar(\"happy\")"
   ]
  },
  {
   "cell_type": "code",
   "execution_count": 29,
   "id": "312b36c6",
   "metadata": {},
   "outputs": [
    {
     "data": {
      "text/plain": [
       "[('合約將', 0.7606512308120728),\n",
       " ('合同', 0.7543858289718628),\n",
       " ('新合約', 0.7510531544685364),\n",
       " ('年合約', 0.7280263900756836),\n",
       " ('簽約', 0.7179040908813477),\n",
       " ('合約並', 0.7054702043533325),\n",
       " ('其合約', 0.7034028172492981),\n",
       " ('合約期', 0.6976761221885681),\n",
       " ('續約', 0.6844313740730286),\n",
       " ('因合約', 0.6735947728157043)]"
      ]
     },
     "execution_count": 29,
     "metadata": {},
     "output_type": "execute_result"
    }
   ],
   "source": [
    "model.wv.most_similar(\"合約\")"
   ]
  },
  {
   "cell_type": "code",
   "execution_count": 30,
   "id": "fddb0997",
   "metadata": {},
   "outputs": [
    {
     "data": {
      "text/plain": [
       "0.79744154"
      ]
     },
     "execution_count": 30,
     "metadata": {},
     "output_type": "execute_result"
    }
   ],
   "source": [
    "model.wv.similarity(\"連結\", \"鏈結\")"
   ]
  },
  {
   "cell_type": "code",
   "execution_count": 31,
   "id": "1a7a0d53",
   "metadata": {},
   "outputs": [
    {
     "data": {
      "text/plain": [
       "-0.0012724159"
      ]
     },
     "execution_count": 31,
     "metadata": {},
     "output_type": "execute_result"
    }
   ],
   "source": [
    "model.wv.similarity(\"連結\", \"陰天\")"
   ]
  },
  {
   "cell_type": "code",
   "execution_count": 32,
   "id": "61e623ae",
   "metadata": {},
   "outputs": [
    {
     "name": "stdout",
     "output_type": "stream",
     "text": [
      "Loading word2vec.zh.300.model...\n"
     ]
    }
   ],
   "source": [
    "print(f\"Loading {output_model}...\")\n",
    "new_model = word2vec.Word2Vec.load(output_model)"
   ]
  },
  {
   "cell_type": "code",
   "execution_count": 33,
   "id": "fd0d6695",
   "metadata": {},
   "outputs": [
    {
     "data": {
      "text/plain": [
       "True"
      ]
     },
     "execution_count": 33,
     "metadata": {},
     "output_type": "execute_result"
    }
   ],
   "source": [
    "model.wv.similarity(\"連結\", \"陰天\") == new_model.wv.similarity(\"連結\", \"陰天\")"
   ]
  },
  {
   "cell_type": "code",
   "execution_count": null,
   "id": "a8569d87",
   "metadata": {},
   "outputs": [],
   "source": []
  }
 ],
 "metadata": {
  "kernelspec": {
   "display_name": "Python 3 (ipykernel)",
   "language": "python",
   "name": "python3"
  },
  "language_info": {
   "codemirror_mode": {
    "name": "ipython",
    "version": 3
   },
   "file_extension": ".py",
   "mimetype": "text/x-python",
   "name": "python",
   "nbconvert_exporter": "python",
   "pygments_lexer": "ipython3",
   "version": "3.8.13"
  }
 },
 "nbformat": 4,
 "nbformat_minor": 5
}
