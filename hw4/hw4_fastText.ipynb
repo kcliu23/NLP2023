{
 "cells": [
  {
   "cell_type": "code",
   "execution_count": 1,
   "id": "d3433f84",
   "metadata": {},
   "outputs": [],
   "source": [
    "import os\n",
    "import gensim\n",
    "import jieba\n",
    "import zhconv\n",
    "\n",
    "if (not os.path.isfile(\"dict.txt.big\")):\n",
    "    ! wget https://github.com/fxsjy/jieba/raw/master/extra_dict/dict.txt.big\n",
    "\n",
    "jieba.set_dictionary(\"dict.txt.big\")\n",
    "import spacy\n",
    "\n",
    "nlp_zh = spacy.load(\"zh_core_web_sm\")\n",
    "nlp_en = spacy.load(\"en_core_web_sm\")\n",
    "STOPWORDS =  nlp_zh.Defaults.stop_words | nlp_en.Defaults.stop_words | set([\"\\n\", \"\\r\\n\", \"\\t\", \" \", \"\"])\n",
    "\n",
    "for word in STOPWORDS.copy():\n",
    "    STOPWORDS.add(zhconv.convert(word, \"zh-tw\"))"
   ]
  },
  {
   "cell_type": "code",
   "execution_count": 2,
   "id": "2157ebae",
   "metadata": {},
   "outputs": [],
   "source": [
    "from f import preprocess_and_tokenize"
   ]
  },
  {
   "cell_type": "code",
   "execution_count": 3,
   "id": "13ff1063",
   "metadata": {},
   "outputs": [
    {
     "name": "stderr",
     "output_type": "stream",
     "text": [
      "Building prefix dict from /Users/kaichengliu/Desktop/University/大三下/NLP2023/hw4/dict.txt.big ...\n",
      "Loading model from cache /var/folders/2m/2yp8xh891bd67xxdsy56_6gc0000gn/T/jieba.ud6625625ebbc2d2b90ddca0ff615d2a1.cache\n",
      "Loading model cost 1.014 seconds.\n",
      "Prefix dict has been built successfully.\n"
     ]
    }
   ],
   "source": [
    "import fasttext\n",
    "import fasttext.util\n",
    "data = []\n",
    "n = 0\n",
    "with open(\"wiki_seg.txt\") as f:\n",
    "    for row in f.readlines():\n",
    "        data.append(preprocess_and_tokenize(row))"
   ]
  },
  {
   "cell_type": "code",
   "execution_count": 6,
   "id": "cb085f37",
   "metadata": {},
   "outputs": [],
   "source": [
    "from gensim.models import word2vec, fasttext\n",
    "\n",
    "\n",
    "# Train\n",
    "model = fasttext.FastText()\n",
    "model.build_vocab(data)\n",
    "model.train(data, epochs=model.epochs,total_examples=model.corpus_count, total_words=model.corpus_total_words)\n",
    "model.save('fasttext.model')"
   ]
  },
  {
   "cell_type": "code",
   "execution_count": 7,
   "id": "b6de1439",
   "metadata": {},
   "outputs": [],
   "source": [
    "word = \"這肯定沒見過 \"\n",
    "\n",
    "try:\n",
    "    vec = model.wv[word]\n",
    "except KeyError as e:\n",
    "    print(e)"
   ]
  },
  {
   "cell_type": "code",
   "execution_count": 8,
   "id": "03345871",
   "metadata": {},
   "outputs": [
    {
     "data": {
      "text/plain": [
       "[('輝劍', 0.9855037331581116),\n",
       " ('名松', 0.9701558947563171),\n",
       " ('飲料類', 0.9429479837417603),\n",
       " ('軟飲料', 0.936282753944397),\n",
       " ('飲品', 0.9102264642715454),\n",
       " ('經米濱', 0.8833635449409485),\n",
       " ('院卿', 0.8511365056037903),\n",
       " ('集滿時', 0.8151489496231079),\n",
       " ('港舊', 0.8033074140548706),\n",
       " ('牛奶', 0.7929983139038086)]"
      ]
     },
     "execution_count": 8,
     "metadata": {},
     "output_type": "execute_result"
    }
   ],
   "source": [
    "model.wv.most_similar(\"飲料\", topn=10)"
   ]
  },
  {
   "cell_type": "code",
   "execution_count": 9,
   "id": "8b4da01a",
   "metadata": {},
   "outputs": [
    {
     "data": {
      "text/plain": [
       "[('hcar', 0.8902831673622131),\n",
       " ('jetcar', 0.8727462291717529),\n",
       " ('ccar', 0.8657267689704895),\n",
       " ('tramcar', 0.8570384979248047),\n",
       " ('motorcar', 0.8569256067276001),\n",
       " ('carcar', 0.8499772548675537),\n",
       " ('indycar', 0.8463096022605896),\n",
       " ('cab', 0.8461726903915405),\n",
       " ('camry', 0.8395930528640747),\n",
       " ('boxcar', 0.8376190066337585)]"
      ]
     },
     "execution_count": 9,
     "metadata": {},
     "output_type": "execute_result"
    }
   ],
   "source": [
    "model.wv.most_similar(\"car\")"
   ]
  },
  {
   "cell_type": "code",
   "execution_count": 10,
   "id": "c6569ccc",
   "metadata": {},
   "outputs": [
    {
     "data": {
      "text/plain": [
       "[('youtubefacebook', 0.9516081809997559),\n",
       " ('thefacebook', 0.9173453450202942),\n",
       " ('facebookpage', 0.9078859090805054),\n",
       " ('facebox', 0.8973644971847534),\n",
       " ('instagram', 0.8597090244293213),\n",
       " ('googleyoutube', 0.8427925109863281),\n",
       " ('twitteryoutube', 0.8049390912055969),\n",
       " ('youtube', 0.802020251750946),\n",
       " ('lnstagram', 0.7937968969345093),\n",
       " ('whatsapp', 0.7891119122505188)]"
      ]
     },
     "execution_count": 10,
     "metadata": {},
     "output_type": "execute_result"
    }
   ],
   "source": [
    "model.wv.most_similar(\"facebook\")"
   ]
  },
  {
   "cell_type": "code",
   "execution_count": 11,
   "id": "799c48dd",
   "metadata": {},
   "outputs": [
    {
     "data": {
      "text/plain": [
       "[('happy8', 0.9779205918312073),\n",
       " ('happyend', 0.9232112765312195),\n",
       " ('unhappy', 0.9156875014305115),\n",
       " ('happytuk', 0.9103104472160339),\n",
       " ('happylive', 0.9087854027748108),\n",
       " ('happytime', 0.9048050045967102),\n",
       " ('happygo', 0.9044574499130249),\n",
       " ('happyface', 0.9038417339324951),\n",
       " ('happ3', 0.8902745842933655),\n",
       " ('chappy', 0.8894372582435608)]"
      ]
     },
     "execution_count": 11,
     "metadata": {},
     "output_type": "execute_result"
    }
   ],
   "source": [
    "model.wv.most_similar(\"happy\")"
   ]
  },
  {
   "cell_type": "code",
   "execution_count": 12,
   "id": "e7f7d563",
   "metadata": {},
   "outputs": [
    {
     "data": {
      "text/plain": [
       "[('德康', 0.9534314870834351),\n",
       " ('倫戈縣', 0.8758705854415894),\n",
       " ('合同', 0.8432769775390625),\n",
       " ('續約', 0.8057641983032227),\n",
       " ('簽約', 0.8030670285224915),\n",
       " ('到期', 0.7902146577835083),\n",
       " ('隊辛', 0.7892029285430908),\n",
       " ('合同商', 0.7884400486946106),\n",
       " ('綠蠅', 0.7832315564155579),\n",
       " ('合同期', 0.7779042720794678)]"
      ]
     },
     "execution_count": 12,
     "metadata": {},
     "output_type": "execute_result"
    }
   ],
   "source": [
    "model.wv.most_similar(\"合約\")"
   ]
  },
  {
   "cell_type": "code",
   "execution_count": 13,
   "id": "876dd0bd",
   "metadata": {},
   "outputs": [
    {
     "data": {
      "text/plain": [
       "0.9166099"
      ]
     },
     "execution_count": 13,
     "metadata": {},
     "output_type": "execute_result"
    }
   ],
   "source": [
    "model.wv.similarity(\"連結\", \"鏈結\")"
   ]
  },
  {
   "cell_type": "code",
   "execution_count": 14,
   "id": "75a61e6f",
   "metadata": {},
   "outputs": [
    {
     "data": {
      "text/plain": [
       "-0.035726584"
      ]
     },
     "execution_count": 14,
     "metadata": {},
     "output_type": "execute_result"
    }
   ],
   "source": [
    "model.wv.similarity(\"連結\", \"陰天\")"
   ]
  },
  {
   "cell_type": "code",
   "execution_count": null,
   "id": "560af718",
   "metadata": {},
   "outputs": [],
   "source": []
  }
 ],
 "metadata": {
  "kernelspec": {
   "display_name": "Python 3 (ipykernel)",
   "language": "python",
   "name": "python3"
  },
  "language_info": {
   "codemirror_mode": {
    "name": "ipython",
    "version": 3
   },
   "file_extension": ".py",
   "mimetype": "text/x-python",
   "name": "python",
   "nbconvert_exporter": "python",
   "pygments_lexer": "ipython3",
   "version": "3.8.13"
  }
 },
 "nbformat": 4,
 "nbformat_minor": 5
}
